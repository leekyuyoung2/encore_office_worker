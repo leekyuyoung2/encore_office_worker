{
 "cells": [
  {
   "cell_type": "code",
   "execution_count": 1,
   "id": "700ffbc5",
   "metadata": {},
   "outputs": [],
   "source": [
    "key =  '70794a6f4d70696138305243626973'"
   ]
  },
  {
   "cell_type": "code",
   "execution_count": 2,
   "id": "17db8c3d",
   "metadata": {},
   "outputs": [
    {
     "name": "stdout",
     "output_type": "stream",
     "text": [
      "http://openapi.seoul.go.kr:8088/70794a6f4d70696138305243626973/json/bikeList/1/5/\n"
     ]
    }
   ],
   "source": [
    "url = f'http://openapi.seoul.go.kr:8088/{key}/json/bikeList/1/5/'\n",
    "print(url)"
   ]
  },
  {
   "cell_type": "code",
   "execution_count": 3,
   "id": "52749ddb",
   "metadata": {},
   "outputs": [],
   "source": [
    "import requests\n",
    "import json\n",
    "import pandas as pd"
   ]
  },
  {
   "cell_type": "code",
   "execution_count": 4,
   "id": "65400103",
   "metadata": {},
   "outputs": [
    {
     "name": "stdout",
     "output_type": "stream",
     "text": [
      "상태코드 : 200\n"
     ]
    }
   ],
   "source": [
    "response = requests.get(url)  # 요청\n",
    "print(f'상태코드 : {response.status_code}')"
   ]
  },
  {
   "cell_type": "code",
   "execution_count": 8,
   "id": "d1cfebb4",
   "metadata": {},
   "outputs": [
    {
     "name": "stdout",
     "output_type": "stream",
     "text": [
      "{\"rentBikeStatus\":{\"list_total_count\":5,\"RESULT\":{\"CODE\":\"INFO-000\",\"MESSAGE\":\"정상 처리되었습니다.\"},\"row\":[{\"rackTotCnt\":\"15\",\"stationName\":\"102. 망원역 1번출구 앞\",\"parkingBikeTotCnt\":\"24\",\"shared\":\"160\",\"stationLatitude\":\"37.55564880\",\"stationLongitude\":\"126.91062927\",\"stationId\":\"ST-4\"},{\"rackTotCnt\":\"14\",\"stationName\":\"103. 망원역 2번출구 앞\",\"parkingBikeTotCnt\":\"16\",\"shared\":\"114\",\"stationLatitude\":\"37.55495071\",\"stationLongitude\":\"126.91083527\",\"stationId\":\"ST-5\"},{\"rackTotCnt\":\"13\",\"stationName\":\"104. 합정역 1번출구 앞\",\"parkingBikeTotCnt\":\"5\",\"shared\":\"38\",\"stationLatitude\":\"37.55073929\",\"stationLongitude\":\"126.91508484\",\"stationId\":\"ST-6\"},{\"rackTotCnt\":\"5\",\"stationName\":\"105. 합정역 5번출구 앞\",\"parkingBikeTotCnt\":\"0\",\"shared\":\"0\",\"stationLatitude\":\"37.55000687\",\"stationLongitude\":\"126.91482544\",\"stationId\":\"ST-7\"},{\"rackTotCnt\":\"12\",\"stationName\":\"106. 합정역 7번출구 앞\",\"parkingBikeTotCnt\":\"1\",\"shared\":\"8\",\"stationLatitude\":\"37.54864502\",\"stationLongitude\":\"126.91282654\",\"stationId\":\"ST-8\"}]}}\n"
     ]
    }
   ],
   "source": [
    "print(response.text)  # 응답은 json형태--> 딕셔너리데이터들을 문자열로 만들어진것"
   ]
  },
  {
   "cell_type": "code",
   "execution_count": 9,
   "id": "dcf3e8fe",
   "metadata": {},
   "outputs": [
    {
     "name": "stdout",
     "output_type": "stream",
     "text": [
      "{'rentBikeStatus': {'list_total_count': 5, 'RESULT': {'CODE': 'INFO-000', 'MESSAGE': '정상 처리되었습니다.'}, 'row': [{'rackTotCnt': '15', 'stationName': '102. 망원역 1번출구 앞', 'parkingBikeTotCnt': '24', 'shared': '160', 'stationLatitude': '37.55564880', 'stationLongitude': '126.91062927', 'stationId': 'ST-4'}, {'rackTotCnt': '14', 'stationName': '103. 망원역 2번출구 앞', 'parkingBikeTotCnt': '16', 'shared': '114', 'stationLatitude': '37.55495071', 'stationLongitude': '126.91083527', 'stationId': 'ST-5'}, {'rackTotCnt': '13', 'stationName': '104. 합정역 1번출구 앞', 'parkingBikeTotCnt': '5', 'shared': '38', 'stationLatitude': '37.55073929', 'stationLongitude': '126.91508484', 'stationId': 'ST-6'}, {'rackTotCnt': '5', 'stationName': '105. 합정역 5번출구 앞', 'parkingBikeTotCnt': '0', 'shared': '0', 'stationLatitude': '37.55000687', 'stationLongitude': '126.91482544', 'stationId': 'ST-7'}, {'rackTotCnt': '12', 'stationName': '106. 합정역 7번출구 앞', 'parkingBikeTotCnt': '1', 'shared': '8', 'stationLatitude': '37.54864502', 'stationLongitude': '126.91282654', 'stationId': 'ST-8'}]}}\n"
     ]
    }
   ],
   "source": [
    "data = json.loads(response.text)\n",
    "print(data)"
   ]
  },
  {
   "cell_type": "code",
   "execution_count": 11,
   "id": "732bf38a",
   "metadata": {},
   "outputs": [
    {
     "data": {
      "text/plain": [
       "[{'rackTotCnt': '15',\n",
       "  'stationName': '102. 망원역 1번출구 앞',\n",
       "  'parkingBikeTotCnt': '24',\n",
       "  'shared': '160',\n",
       "  'stationLatitude': '37.55564880',\n",
       "  'stationLongitude': '126.91062927',\n",
       "  'stationId': 'ST-4'},\n",
       " {'rackTotCnt': '14',\n",
       "  'stationName': '103. 망원역 2번출구 앞',\n",
       "  'parkingBikeTotCnt': '16',\n",
       "  'shared': '114',\n",
       "  'stationLatitude': '37.55495071',\n",
       "  'stationLongitude': '126.91083527',\n",
       "  'stationId': 'ST-5'},\n",
       " {'rackTotCnt': '13',\n",
       "  'stationName': '104. 합정역 1번출구 앞',\n",
       "  'parkingBikeTotCnt': '5',\n",
       "  'shared': '38',\n",
       "  'stationLatitude': '37.55073929',\n",
       "  'stationLongitude': '126.91508484',\n",
       "  'stationId': 'ST-6'},\n",
       " {'rackTotCnt': '5',\n",
       "  'stationName': '105. 합정역 5번출구 앞',\n",
       "  'parkingBikeTotCnt': '0',\n",
       "  'shared': '0',\n",
       "  'stationLatitude': '37.55000687',\n",
       "  'stationLongitude': '126.91482544',\n",
       "  'stationId': 'ST-7'},\n",
       " {'rackTotCnt': '12',\n",
       "  'stationName': '106. 합정역 7번출구 앞',\n",
       "  'parkingBikeTotCnt': '1',\n",
       "  'shared': '8',\n",
       "  'stationLatitude': '37.54864502',\n",
       "  'stationLongitude': '126.91282654',\n",
       "  'stationId': 'ST-8'}]"
      ]
     },
     "execution_count": 11,
     "metadata": {},
     "output_type": "execute_result"
    }
   ],
   "source": [
    "data['rentBikeStatus']['row']"
   ]
  },
  {
   "cell_type": "code",
   "execution_count": 12,
   "id": "884fba3e",
   "metadata": {},
   "outputs": [
    {
     "data": {
      "text/html": [
       "<div>\n",
       "<style scoped>\n",
       "    .dataframe tbody tr th:only-of-type {\n",
       "        vertical-align: middle;\n",
       "    }\n",
       "\n",
       "    .dataframe tbody tr th {\n",
       "        vertical-align: top;\n",
       "    }\n",
       "\n",
       "    .dataframe thead th {\n",
       "        text-align: right;\n",
       "    }\n",
       "</style>\n",
       "<table border=\"1\" class=\"dataframe\">\n",
       "  <thead>\n",
       "    <tr style=\"text-align: right;\">\n",
       "      <th></th>\n",
       "      <th>rackTotCnt</th>\n",
       "      <th>stationName</th>\n",
       "      <th>parkingBikeTotCnt</th>\n",
       "      <th>shared</th>\n",
       "      <th>stationLatitude</th>\n",
       "      <th>stationLongitude</th>\n",
       "      <th>stationId</th>\n",
       "    </tr>\n",
       "  </thead>\n",
       "  <tbody>\n",
       "    <tr>\n",
       "      <th>0</th>\n",
       "      <td>15</td>\n",
       "      <td>102. 망원역 1번출구 앞</td>\n",
       "      <td>24</td>\n",
       "      <td>160</td>\n",
       "      <td>37.55564880</td>\n",
       "      <td>126.91062927</td>\n",
       "      <td>ST-4</td>\n",
       "    </tr>\n",
       "    <tr>\n",
       "      <th>1</th>\n",
       "      <td>14</td>\n",
       "      <td>103. 망원역 2번출구 앞</td>\n",
       "      <td>16</td>\n",
       "      <td>114</td>\n",
       "      <td>37.55495071</td>\n",
       "      <td>126.91083527</td>\n",
       "      <td>ST-5</td>\n",
       "    </tr>\n",
       "    <tr>\n",
       "      <th>2</th>\n",
       "      <td>13</td>\n",
       "      <td>104. 합정역 1번출구 앞</td>\n",
       "      <td>5</td>\n",
       "      <td>38</td>\n",
       "      <td>37.55073929</td>\n",
       "      <td>126.91508484</td>\n",
       "      <td>ST-6</td>\n",
       "    </tr>\n",
       "    <tr>\n",
       "      <th>3</th>\n",
       "      <td>5</td>\n",
       "      <td>105. 합정역 5번출구 앞</td>\n",
       "      <td>0</td>\n",
       "      <td>0</td>\n",
       "      <td>37.55000687</td>\n",
       "      <td>126.91482544</td>\n",
       "      <td>ST-7</td>\n",
       "    </tr>\n",
       "    <tr>\n",
       "      <th>4</th>\n",
       "      <td>12</td>\n",
       "      <td>106. 합정역 7번출구 앞</td>\n",
       "      <td>1</td>\n",
       "      <td>8</td>\n",
       "      <td>37.54864502</td>\n",
       "      <td>126.91282654</td>\n",
       "      <td>ST-8</td>\n",
       "    </tr>\n",
       "  </tbody>\n",
       "</table>\n",
       "</div>"
      ],
      "text/plain": [
       "  rackTotCnt      stationName parkingBikeTotCnt shared stationLatitude  \\\n",
       "0         15  102. 망원역 1번출구 앞                24    160     37.55564880   \n",
       "1         14  103. 망원역 2번출구 앞                16    114     37.55495071   \n",
       "2         13  104. 합정역 1번출구 앞                 5     38     37.55073929   \n",
       "3          5  105. 합정역 5번출구 앞                 0      0     37.55000687   \n",
       "4         12  106. 합정역 7번출구 앞                 1      8     37.54864502   \n",
       "\n",
       "  stationLongitude stationId  \n",
       "0     126.91062927      ST-4  \n",
       "1     126.91083527      ST-5  \n",
       "2     126.91508484      ST-6  \n",
       "3     126.91482544      ST-7  \n",
       "4     126.91282654      ST-8  "
      ]
     },
     "execution_count": 12,
     "metadata": {},
     "output_type": "execute_result"
    }
   ],
   "source": [
    "pd.DataFrame( data['rentBikeStatus']['row']  )"
   ]
  },
  {
   "cell_type": "code",
   "execution_count": 13,
   "id": "a8769369",
   "metadata": {},
   "outputs": [],
   "source": [
    "bike = pd.DataFrame( data['rentBikeStatus']['row']  )"
   ]
  },
  {
   "cell_type": "code",
   "execution_count": 14,
   "id": "e77bf642",
   "metadata": {},
   "outputs": [
    {
     "data": {
      "text/html": [
       "<div>\n",
       "<style scoped>\n",
       "    .dataframe tbody tr th:only-of-type {\n",
       "        vertical-align: middle;\n",
       "    }\n",
       "\n",
       "    .dataframe tbody tr th {\n",
       "        vertical-align: top;\n",
       "    }\n",
       "\n",
       "    .dataframe thead th {\n",
       "        text-align: right;\n",
       "    }\n",
       "</style>\n",
       "<table border=\"1\" class=\"dataframe\">\n",
       "  <thead>\n",
       "    <tr style=\"text-align: right;\">\n",
       "      <th></th>\n",
       "      <th>stationName</th>\n",
       "      <th>stationLatitude</th>\n",
       "      <th>stationLongitude</th>\n",
       "      <th>rackTotCnt</th>\n",
       "      <th>parkingBikeTotCnt</th>\n",
       "    </tr>\n",
       "  </thead>\n",
       "  <tbody>\n",
       "    <tr>\n",
       "      <th>0</th>\n",
       "      <td>102. 망원역 1번출구 앞</td>\n",
       "      <td>37.55564880</td>\n",
       "      <td>126.91062927</td>\n",
       "      <td>15</td>\n",
       "      <td>24</td>\n",
       "    </tr>\n",
       "    <tr>\n",
       "      <th>1</th>\n",
       "      <td>103. 망원역 2번출구 앞</td>\n",
       "      <td>37.55495071</td>\n",
       "      <td>126.91083527</td>\n",
       "      <td>14</td>\n",
       "      <td>16</td>\n",
       "    </tr>\n",
       "    <tr>\n",
       "      <th>2</th>\n",
       "      <td>104. 합정역 1번출구 앞</td>\n",
       "      <td>37.55073929</td>\n",
       "      <td>126.91508484</td>\n",
       "      <td>13</td>\n",
       "      <td>5</td>\n",
       "    </tr>\n",
       "    <tr>\n",
       "      <th>3</th>\n",
       "      <td>105. 합정역 5번출구 앞</td>\n",
       "      <td>37.55000687</td>\n",
       "      <td>126.91482544</td>\n",
       "      <td>5</td>\n",
       "      <td>0</td>\n",
       "    </tr>\n",
       "    <tr>\n",
       "      <th>4</th>\n",
       "      <td>106. 합정역 7번출구 앞</td>\n",
       "      <td>37.54864502</td>\n",
       "      <td>126.91282654</td>\n",
       "      <td>12</td>\n",
       "      <td>1</td>\n",
       "    </tr>\n",
       "  </tbody>\n",
       "</table>\n",
       "</div>"
      ],
      "text/plain": [
       "       stationName stationLatitude stationLongitude rackTotCnt  \\\n",
       "0  102. 망원역 1번출구 앞     37.55564880     126.91062927         15   \n",
       "1  103. 망원역 2번출구 앞     37.55495071     126.91083527         14   \n",
       "2  104. 합정역 1번출구 앞     37.55073929     126.91508484         13   \n",
       "3  105. 합정역 5번출구 앞     37.55000687     126.91482544          5   \n",
       "4  106. 합정역 7번출구 앞     37.54864502     126.91282654         12   \n",
       "\n",
       "  parkingBikeTotCnt  \n",
       "0                24  \n",
       "1                16  \n",
       "2                 5  \n",
       "3                 0  \n",
       "4                 1  "
      ]
     },
     "execution_count": 14,
     "metadata": {},
     "output_type": "execute_result"
    }
   ],
   "source": [
    "# 필요한 컬럼만 추출\n",
    "new_cols =  ['stationName','stationLatitude','stationLongitude','rackTotCnt','parkingBikeTotCnt']\n",
    "new_bike = bike.loc[ :  , new_cols ]\n",
    "new_bike"
   ]
  },
  {
   "cell_type": "code",
   "execution_count": 19,
   "id": "e77adcfd",
   "metadata": {},
   "outputs": [],
   "source": [
    "new_bike['parkingBikeTotCnt'] = new_bike['parkingBikeTotCnt'].astype(int)"
   ]
  },
  {
   "cell_type": "code",
   "execution_count": 20,
   "id": "ab894f3f",
   "metadata": {},
   "outputs": [],
   "source": [
    "new_bike['rackTotCnt'] = new_bike['rackTotCnt'].astype(int)"
   ]
  },
  {
   "cell_type": "code",
   "execution_count": null,
   "id": "7b19e753",
   "metadata": {},
   "outputs": [
    {
     "data": {
      "text/plain": [
       "0    1.60\n",
       "1    1.14\n",
       "2    0.38\n",
       "3    0.00\n",
       "4    0.08\n",
       "dtype: float64"
      ]
     },
     "execution_count": 24,
     "metadata": {},
     "output_type": "execute_result"
    }
   ],
   "source": [
    "# 파생변수\n",
    "# 이용율 = 주차된자전거수 / 총 거치대수\n",
    "# 소수 2자리에서 반올림\n",
    "(new_bike['parkingBikeTotCnt'] / new_bike['rackTotCnt']).round(2)"
   ]
  },
  {
   "cell_type": "code",
   "execution_count": 25,
   "id": "dd4e8752",
   "metadata": {},
   "outputs": [],
   "source": [
    "# use_rate 이름으로 추가\n",
    "new_bike['use_rate'] = (new_bike['parkingBikeTotCnt'] / new_bike['rackTotCnt']).round(2)"
   ]
  },
  {
   "cell_type": "code",
   "execution_count": 26,
   "id": "67700b59",
   "metadata": {},
   "outputs": [
    {
     "data": {
      "text/html": [
       "<div>\n",
       "<style scoped>\n",
       "    .dataframe tbody tr th:only-of-type {\n",
       "        vertical-align: middle;\n",
       "    }\n",
       "\n",
       "    .dataframe tbody tr th {\n",
       "        vertical-align: top;\n",
       "    }\n",
       "\n",
       "    .dataframe thead th {\n",
       "        text-align: right;\n",
       "    }\n",
       "</style>\n",
       "<table border=\"1\" class=\"dataframe\">\n",
       "  <thead>\n",
       "    <tr style=\"text-align: right;\">\n",
       "      <th></th>\n",
       "      <th>stationName</th>\n",
       "      <th>stationLatitude</th>\n",
       "      <th>stationLongitude</th>\n",
       "      <th>rackTotCnt</th>\n",
       "      <th>parkingBikeTotCnt</th>\n",
       "      <th>use_rate</th>\n",
       "    </tr>\n",
       "  </thead>\n",
       "  <tbody>\n",
       "    <tr>\n",
       "      <th>0</th>\n",
       "      <td>102. 망원역 1번출구 앞</td>\n",
       "      <td>37.55564880</td>\n",
       "      <td>126.91062927</td>\n",
       "      <td>15</td>\n",
       "      <td>24</td>\n",
       "      <td>1.60</td>\n",
       "    </tr>\n",
       "    <tr>\n",
       "      <th>1</th>\n",
       "      <td>103. 망원역 2번출구 앞</td>\n",
       "      <td>37.55495071</td>\n",
       "      <td>126.91083527</td>\n",
       "      <td>14</td>\n",
       "      <td>16</td>\n",
       "      <td>1.14</td>\n",
       "    </tr>\n",
       "    <tr>\n",
       "      <th>2</th>\n",
       "      <td>104. 합정역 1번출구 앞</td>\n",
       "      <td>37.55073929</td>\n",
       "      <td>126.91508484</td>\n",
       "      <td>13</td>\n",
       "      <td>5</td>\n",
       "      <td>0.38</td>\n",
       "    </tr>\n",
       "    <tr>\n",
       "      <th>3</th>\n",
       "      <td>105. 합정역 5번출구 앞</td>\n",
       "      <td>37.55000687</td>\n",
       "      <td>126.91482544</td>\n",
       "      <td>5</td>\n",
       "      <td>0</td>\n",
       "      <td>0.00</td>\n",
       "    </tr>\n",
       "    <tr>\n",
       "      <th>4</th>\n",
       "      <td>106. 합정역 7번출구 앞</td>\n",
       "      <td>37.54864502</td>\n",
       "      <td>126.91282654</td>\n",
       "      <td>12</td>\n",
       "      <td>1</td>\n",
       "      <td>0.08</td>\n",
       "    </tr>\n",
       "  </tbody>\n",
       "</table>\n",
       "</div>"
      ],
      "text/plain": [
       "       stationName stationLatitude stationLongitude  rackTotCnt  \\\n",
       "0  102. 망원역 1번출구 앞     37.55564880     126.91062927          15   \n",
       "1  103. 망원역 2번출구 앞     37.55495071     126.91083527          14   \n",
       "2  104. 합정역 1번출구 앞     37.55073929     126.91508484          13   \n",
       "3  105. 합정역 5번출구 앞     37.55000687     126.91482544           5   \n",
       "4  106. 합정역 7번출구 앞     37.54864502     126.91282654          12   \n",
       "\n",
       "   parkingBikeTotCnt  use_rate  \n",
       "0                 24      1.60  \n",
       "1                 16      1.14  \n",
       "2                  5      0.38  \n",
       "3                  0      0.00  \n",
       "4                  1      0.08  "
      ]
     },
     "execution_count": 26,
     "metadata": {},
     "output_type": "execute_result"
    }
   ],
   "source": [
    "new_bike"
   ]
  },
  {
   "cell_type": "code",
   "execution_count": 34,
   "id": "c187898e",
   "metadata": {},
   "outputs": [],
   "source": [
    "# 분모가 0이면 0으로 나누어서 에러가 발생\n",
    "# 분모가 0이면 값을 0으로 처리하기\n",
    "result = []\n",
    "for i in range(len(new_bike)):\n",
    "    if new_bike['rackTotCnt'][i] == 0:\n",
    "        result.append(0)\n",
    "    else:\n",
    "        result.append( new_bike['parkingBikeTotCnt'][i] / new_bike['rackTotCnt'][i]   )\n",
    "\n",
    "new_bike['use_rate'] = result    "
   ]
  },
  {
   "cell_type": "code",
   "execution_count": 35,
   "id": "8898813b",
   "metadata": {},
   "outputs": [
    {
     "data": {
      "text/html": [
       "<div>\n",
       "<style scoped>\n",
       "    .dataframe tbody tr th:only-of-type {\n",
       "        vertical-align: middle;\n",
       "    }\n",
       "\n",
       "    .dataframe tbody tr th {\n",
       "        vertical-align: top;\n",
       "    }\n",
       "\n",
       "    .dataframe thead th {\n",
       "        text-align: right;\n",
       "    }\n",
       "</style>\n",
       "<table border=\"1\" class=\"dataframe\">\n",
       "  <thead>\n",
       "    <tr style=\"text-align: right;\">\n",
       "      <th></th>\n",
       "      <th>stationName</th>\n",
       "      <th>stationLatitude</th>\n",
       "      <th>stationLongitude</th>\n",
       "      <th>rackTotCnt</th>\n",
       "      <th>parkingBikeTotCnt</th>\n",
       "      <th>use_rate</th>\n",
       "    </tr>\n",
       "  </thead>\n",
       "  <tbody>\n",
       "    <tr>\n",
       "      <th>0</th>\n",
       "      <td>102. 망원역 1번출구 앞</td>\n",
       "      <td>37.55564880</td>\n",
       "      <td>126.91062927</td>\n",
       "      <td>15</td>\n",
       "      <td>24</td>\n",
       "      <td>1.600000</td>\n",
       "    </tr>\n",
       "    <tr>\n",
       "      <th>1</th>\n",
       "      <td>103. 망원역 2번출구 앞</td>\n",
       "      <td>37.55495071</td>\n",
       "      <td>126.91083527</td>\n",
       "      <td>14</td>\n",
       "      <td>16</td>\n",
       "      <td>1.142857</td>\n",
       "    </tr>\n",
       "    <tr>\n",
       "      <th>2</th>\n",
       "      <td>104. 합정역 1번출구 앞</td>\n",
       "      <td>37.55073929</td>\n",
       "      <td>126.91508484</td>\n",
       "      <td>13</td>\n",
       "      <td>5</td>\n",
       "      <td>0.384615</td>\n",
       "    </tr>\n",
       "    <tr>\n",
       "      <th>3</th>\n",
       "      <td>105. 합정역 5번출구 앞</td>\n",
       "      <td>37.55000687</td>\n",
       "      <td>126.91482544</td>\n",
       "      <td>5</td>\n",
       "      <td>0</td>\n",
       "      <td>0.000000</td>\n",
       "    </tr>\n",
       "    <tr>\n",
       "      <th>4</th>\n",
       "      <td>106. 합정역 7번출구 앞</td>\n",
       "      <td>37.54864502</td>\n",
       "      <td>126.91282654</td>\n",
       "      <td>12</td>\n",
       "      <td>1</td>\n",
       "      <td>0.083333</td>\n",
       "    </tr>\n",
       "  </tbody>\n",
       "</table>\n",
       "</div>"
      ],
      "text/plain": [
       "       stationName stationLatitude stationLongitude  rackTotCnt  \\\n",
       "0  102. 망원역 1번출구 앞     37.55564880     126.91062927          15   \n",
       "1  103. 망원역 2번출구 앞     37.55495071     126.91083527          14   \n",
       "2  104. 합정역 1번출구 앞     37.55073929     126.91508484          13   \n",
       "3  105. 합정역 5번출구 앞     37.55000687     126.91482544           5   \n",
       "4  106. 합정역 7번출구 앞     37.54864502     126.91282654          12   \n",
       "\n",
       "   parkingBikeTotCnt  use_rate  \n",
       "0                 24  1.600000  \n",
       "1                 16  1.142857  \n",
       "2                  5  0.384615  \n",
       "3                  0  0.000000  \n",
       "4                  1  0.083333  "
      ]
     },
     "execution_count": 35,
     "metadata": {},
     "output_type": "execute_result"
    }
   ],
   "source": [
    "new_bike"
   ]
  },
  {
   "cell_type": "code",
   "execution_count": 37,
   "id": "ee092b0e",
   "metadata": {},
   "outputs": [
    {
     "data": {
      "text/html": [
       "<div>\n",
       "<style scoped>\n",
       "    .dataframe tbody tr th:only-of-type {\n",
       "        vertical-align: middle;\n",
       "    }\n",
       "\n",
       "    .dataframe tbody tr th {\n",
       "        vertical-align: top;\n",
       "    }\n",
       "\n",
       "    .dataframe thead th {\n",
       "        text-align: right;\n",
       "    }\n",
       "</style>\n",
       "<table border=\"1\" class=\"dataframe\">\n",
       "  <thead>\n",
       "    <tr style=\"text-align: right;\">\n",
       "      <th></th>\n",
       "      <th>rackTotCnt</th>\n",
       "      <th>parkingBikeTotCnt</th>\n",
       "      <th>use_rate</th>\n",
       "    </tr>\n",
       "  </thead>\n",
       "  <tbody>\n",
       "    <tr>\n",
       "      <th>count</th>\n",
       "      <td>5.000000</td>\n",
       "      <td>5.000000</td>\n",
       "      <td>5.000000</td>\n",
       "    </tr>\n",
       "    <tr>\n",
       "      <th>mean</th>\n",
       "      <td>11.800000</td>\n",
       "      <td>9.200000</td>\n",
       "      <td>0.642161</td>\n",
       "    </tr>\n",
       "    <tr>\n",
       "      <th>std</th>\n",
       "      <td>3.962323</td>\n",
       "      <td>10.425929</td>\n",
       "      <td>0.699847</td>\n",
       "    </tr>\n",
       "    <tr>\n",
       "      <th>min</th>\n",
       "      <td>5.000000</td>\n",
       "      <td>0.000000</td>\n",
       "      <td>0.000000</td>\n",
       "    </tr>\n",
       "    <tr>\n",
       "      <th>25%</th>\n",
       "      <td>12.000000</td>\n",
       "      <td>1.000000</td>\n",
       "      <td>0.083333</td>\n",
       "    </tr>\n",
       "    <tr>\n",
       "      <th>50%</th>\n",
       "      <td>13.000000</td>\n",
       "      <td>5.000000</td>\n",
       "      <td>0.384615</td>\n",
       "    </tr>\n",
       "    <tr>\n",
       "      <th>75%</th>\n",
       "      <td>14.000000</td>\n",
       "      <td>16.000000</td>\n",
       "      <td>1.142857</td>\n",
       "    </tr>\n",
       "    <tr>\n",
       "      <th>max</th>\n",
       "      <td>15.000000</td>\n",
       "      <td>24.000000</td>\n",
       "      <td>1.600000</td>\n",
       "    </tr>\n",
       "  </tbody>\n",
       "</table>\n",
       "</div>"
      ],
      "text/plain": [
       "       rackTotCnt  parkingBikeTotCnt  use_rate\n",
       "count    5.000000           5.000000  5.000000\n",
       "mean    11.800000           9.200000  0.642161\n",
       "std      3.962323          10.425929  0.699847\n",
       "min      5.000000           0.000000  0.000000\n",
       "25%     12.000000           1.000000  0.083333\n",
       "50%     13.000000           5.000000  0.384615\n",
       "75%     14.000000          16.000000  1.142857\n",
       "max     15.000000          24.000000  1.600000"
      ]
     },
     "execution_count": 37,
     "metadata": {},
     "output_type": "execute_result"
    }
   ],
   "source": [
    "# new_bike  rackTotCnt\tparkingBikeTotCnt\tuse_rate 에대한 기술통계\n",
    "new_bike[ ['rackTotCnt',\t'parkingBikeTotCnt',\t'use_rate' ]  ].describe()"
   ]
  },
  {
   "cell_type": "code",
   "execution_count": null,
   "id": "9b9547a5",
   "metadata": {},
   "outputs": [
    {
     "data": {
      "text/html": [
       "<div>\n",
       "<style scoped>\n",
       "    .dataframe tbody tr th:only-of-type {\n",
       "        vertical-align: middle;\n",
       "    }\n",
       "\n",
       "    .dataframe tbody tr th {\n",
       "        vertical-align: top;\n",
       "    }\n",
       "\n",
       "    .dataframe thead th {\n",
       "        text-align: right;\n",
       "    }\n",
       "</style>\n",
       "<table border=\"1\" class=\"dataframe\">\n",
       "  <thead>\n",
       "    <tr style=\"text-align: right;\">\n",
       "      <th></th>\n",
       "      <th>stationName</th>\n",
       "      <th>stationLatitude</th>\n",
       "      <th>stationLongitude</th>\n",
       "      <th>rackTotCnt</th>\n",
       "      <th>parkingBikeTotCnt</th>\n",
       "      <th>use_rate</th>\n",
       "    </tr>\n",
       "  </thead>\n",
       "  <tbody>\n",
       "    <tr>\n",
       "      <th>0</th>\n",
       "      <td>102. 망원역 1번출구 앞</td>\n",
       "      <td>37.55564880</td>\n",
       "      <td>126.91062927</td>\n",
       "      <td>15</td>\n",
       "      <td>24</td>\n",
       "      <td>1.600000</td>\n",
       "    </tr>\n",
       "    <tr>\n",
       "      <th>1</th>\n",
       "      <td>103. 망원역 2번출구 앞</td>\n",
       "      <td>37.55495071</td>\n",
       "      <td>126.91083527</td>\n",
       "      <td>14</td>\n",
       "      <td>16</td>\n",
       "      <td>1.142857</td>\n",
       "    </tr>\n",
       "    <tr>\n",
       "      <th>2</th>\n",
       "      <td>104. 합정역 1번출구 앞</td>\n",
       "      <td>37.55073929</td>\n",
       "      <td>126.91508484</td>\n",
       "      <td>13</td>\n",
       "      <td>5</td>\n",
       "      <td>0.384615</td>\n",
       "    </tr>\n",
       "  </tbody>\n",
       "</table>\n",
       "</div>"
      ],
      "text/plain": [
       "       stationName stationLatitude stationLongitude  rackTotCnt  \\\n",
       "0  102. 망원역 1번출구 앞     37.55564880     126.91062927          15   \n",
       "1  103. 망원역 2번출구 앞     37.55495071     126.91083527          14   \n",
       "2  104. 합정역 1번출구 앞     37.55073929     126.91508484          13   \n",
       "\n",
       "   parkingBikeTotCnt  use_rate  \n",
       "0                 24  1.600000  \n",
       "1                 16  1.142857  \n",
       "2                  5  0.384615  "
      ]
     },
     "execution_count": 40,
     "metadata": {},
     "output_type": "execute_result"
    }
   ],
   "source": [
    "# 이용율이 높은순으로 정렬 내림차순   top3\n",
    "new_bike.sort_values(by = ['use_rate'],ascending=False)[:3]"
   ]
  },
  {
   "cell_type": "code",
   "execution_count": 41,
   "id": "294057d8",
   "metadata": {},
   "outputs": [
    {
     "data": {
      "text/html": [
       "<div>\n",
       "<style scoped>\n",
       "    .dataframe tbody tr th:only-of-type {\n",
       "        vertical-align: middle;\n",
       "    }\n",
       "\n",
       "    .dataframe tbody tr th {\n",
       "        vertical-align: top;\n",
       "    }\n",
       "\n",
       "    .dataframe thead th {\n",
       "        text-align: right;\n",
       "    }\n",
       "</style>\n",
       "<table border=\"1\" class=\"dataframe\">\n",
       "  <thead>\n",
       "    <tr style=\"text-align: right;\">\n",
       "      <th></th>\n",
       "      <th>stationName</th>\n",
       "      <th>use_rate</th>\n",
       "    </tr>\n",
       "  </thead>\n",
       "  <tbody>\n",
       "    <tr>\n",
       "      <th>0</th>\n",
       "      <td>102. 망원역 1번출구 앞</td>\n",
       "      <td>1.600000</td>\n",
       "    </tr>\n",
       "    <tr>\n",
       "      <th>1</th>\n",
       "      <td>103. 망원역 2번출구 앞</td>\n",
       "      <td>1.142857</td>\n",
       "    </tr>\n",
       "    <tr>\n",
       "      <th>2</th>\n",
       "      <td>104. 합정역 1번출구 앞</td>\n",
       "      <td>0.384615</td>\n",
       "    </tr>\n",
       "  </tbody>\n",
       "</table>\n",
       "</div>"
      ],
      "text/plain": [
       "       stationName  use_rate\n",
       "0  102. 망원역 1번출구 앞  1.600000\n",
       "1  103. 망원역 2번출구 앞  1.142857\n",
       "2  104. 합정역 1번출구 앞  0.384615"
      ]
     },
     "execution_count": 41,
     "metadata": {},
     "output_type": "execute_result"
    }
   ],
   "source": [
    "new_bike.sort_values(by = ['use_rate'],ascending=False)[:3][['stationName','use_rate']]"
   ]
  },
  {
   "cell_type": "code",
   "execution_count": 43,
   "id": "62c1fa9b",
   "metadata": {},
   "outputs": [],
   "source": [
    "# 저장\n",
    "final_bike = new_bike.sort_values(by = ['use_rate'],ascending=False)[:3][['stationName','use_rate']]\n",
    "final_bike.to_csv('final.csv',index=False, encoding='utf-8')"
   ]
  },
  {
   "cell_type": "code",
   "execution_count": null,
   "id": "5322c9ec",
   "metadata": {},
   "outputs": [],
   "source": []
  }
 ],
 "metadata": {
  "kernelspec": {
   "display_name": "base",
   "language": "python",
   "name": "python3"
  },
  "language_info": {
   "codemirror_mode": {
    "name": "ipython",
    "version": 3
   },
   "file_extension": ".py",
   "mimetype": "text/x-python",
   "name": "python",
   "nbconvert_exporter": "python",
   "pygments_lexer": "ipython3",
   "version": "3.13.5"
  }
 },
 "nbformat": 4,
 "nbformat_minor": 5
}
