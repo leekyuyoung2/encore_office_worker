{
 "cells": [
  {
   "cell_type": "code",
   "execution_count": 2,
   "id": "602d0d14",
   "metadata": {},
   "outputs": [
    {
     "name": "stdout",
     "output_type": "stream",
     "text": [
      "25\n",
      "홍길동\n"
     ]
    }
   ],
   "source": [
    "# 변수는  변수명 = 값  형태로 만든다\n",
    "# 주석은 명령어를 파이썬으로 전송하지 않는다.\n",
    "# 코드의 설명이나 기타 필요한 정보를 자유롭게 기술한다\n",
    "name = '홍길동'\n",
    "age = 25\n",
    "print(age)\n",
    "print(name)"
   ]
  },
  {
   "cell_type": "code",
   "execution_count": 3,
   "id": "cbd0d8cc",
   "metadata": {},
   "outputs": [],
   "source": [
    "name = 3.141579"
   ]
  },
  {
   "cell_type": "code",
   "execution_count": 4,
   "id": "d1d2740f",
   "metadata": {},
   "outputs": [],
   "source": [
    "# 카멜케이스 각 단어의 첫글자만 대문자로\n",
    "# 스네이크 케이스  단어사이를 _ 로 연결\n",
    "\n",
    "subjectScore = 100  #카멜 케이스  -> java\n",
    "subject_score = 100 # 스네이크 케이스   ->파이썬\n"
   ]
  },
  {
   "cell_type": "code",
   "execution_count": 1,
   "id": "0fd000bc",
   "metadata": {},
   "outputs": [
    {
     "name": "stdout",
     "output_type": "stream",
     "text": [
      "100\n"
     ]
    }
   ],
   "source": [
    "# 변수생성 규칙\n",
    "# 변수명은 자유롭게 작성 다만 의미를 짐작할 수 있도록 유사한 명칭 - 한글식 영어\n",
    "# 숫자나 특수기호로 시작하면 안된다 단 _ 는 가능\n",
    "# 파이썬이 미리 만들어 놓은 명칭 또는 명령어 또는 단어 이런것들을 예약어(keyword) 를 변수명으로 쓰면 원래기능을 재 정의\n",
    "st = 100\n",
    "print(st)\n",
    "name = '이순신'\n"
   ]
  },
  {
   "cell_type": "code",
   "execution_count": 2,
   "id": "b2a62f0b",
   "metadata": {},
   "outputs": [
    {
     "name": "stdout",
     "output_type": "stream",
     "text": [
      "300\n"
     ]
    }
   ],
   "source": [
    "# 변수 2개를 만들어서 두 변수를 더해서 출력\n",
    "num1 = 100\n",
    "num2 = 200\n",
    "print(num1 + num2 )"
   ]
  },
  {
   "cell_type": "code",
   "execution_count": null,
   "id": "9aa424b2",
   "metadata": {},
   "outputs": [
    {
     "name": "stdout",
     "output_type": "stream",
     "text": [
      "300\n",
      "-100\n",
      "20000\n",
      "0.5\n"
     ]
    }
   ],
   "source": [
    "# 두개의 변수를 만들어서 print를 이용해서 출력을 (사칙연산)  + - * /\n",
    "data_1 = 100\n",
    "data_2 = 200\n",
    "print(data_1 + data_2)\n",
    "print(data_1 - data_2)\n",
    "print(data_1 * data_2)\n",
    "print(data_1 / data_2)"
   ]
  },
  {
   "cell_type": "code",
   "execution_count": null,
   "id": "57779564",
   "metadata": {},
   "outputs": [],
   "source": [
    "# 1. 100이라는 값을 가지는 변수를 생성\n",
    "# 2. 해당변수의 값에 10을 더해서 다시 자기자신에게 할당(덮어씀)\n",
    "# 3. 변수의 값을 출력\n",
    "\n",
    "x = 100\n",
    "x += 10   #   x =  x + 10\n"
   ]
  }
 ],
 "metadata": {
  "kernelspec": {
   "display_name": "base",
   "language": "python",
   "name": "python3"
  },
  "language_info": {
   "codemirror_mode": {
    "name": "ipython",
    "version": 3
   },
   "file_extension": ".py",
   "mimetype": "text/x-python",
   "name": "python",
   "nbconvert_exporter": "python",
   "pygments_lexer": "ipython3",
   "version": "3.13.5"
  }
 },
 "nbformat": 4,
 "nbformat_minor": 5
}
