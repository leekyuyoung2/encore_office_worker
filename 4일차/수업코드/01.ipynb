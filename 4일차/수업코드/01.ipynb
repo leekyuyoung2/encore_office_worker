{
 "cells": [
  {
   "cell_type": "code",
   "execution_count": 1,
   "id": "32eeb356",
   "metadata": {},
   "outputs": [
    {
     "name": "stdout",
     "output_type": "stream",
     "text": [
      "✅ 상태 코드: 200\n",
      "📄 HTML 길이: 366747 문자\n",
      "\n",
      "📝 HTML 미리보기 (첫 300자):\n",
      "--------------------------------------------------\n",
      "\n",
      "<!doctype html>\n",
      "<html lang=\"ko\">\n",
      "\t<head>\n",
      "\t\t<title id=\"browserTitleArea\">네이버 뉴스</title>\n",
      "\t\t\n",
      "\n",
      "\n",
      "<script>\n",
      "\tfunction isMobileDevice() {\n",
      "\t\treturn /^.*(iPhone|iPod|iPad|Android).*/.test(navigator.userAgent);\n",
      "\t}\n",
      "</script>\n",
      "<script>\n",
      "\t(function () {\n",
      "\t\ttry {\n",
      "\t\t\tif (isMobileDevice() && isAbleApplyPrefersColorSch\n",
      "...\n"
     ]
    }
   ],
   "source": [
    "import requests\n",
    "url = 'https://news.naver.com/'\n",
    " # 웹페이지 요청\n",
    "response = requests.get(url)\n",
    "\n",
    "# 상태 코드 확인\n",
    "print(f\"✅ 상태 코드: {response.status_code}\")\n",
    "\n",
    "# HTML 길이 출력\n",
    "print(f\"📄 HTML 길이: {len(response.text)} 문자\")\n",
    "\n",
    "# HTML 일부 출력 (처음 300자)\n",
    "print(f\"\\n📝 HTML 미리보기 (첫 300자):\")\n",
    "print(\"-\" * 50)\n",
    "print(response.text[:300])\n",
    "print(\"...\")"
   ]
  },
  {
   "cell_type": "code",
   "execution_count": null,
   "id": "d049ed0d",
   "metadata": {},
   "outputs": [],
   "source": []
  }
 ],
 "metadata": {
  "kernelspec": {
   "display_name": "base",
   "language": "python",
   "name": "python3"
  },
  "language_info": {
   "codemirror_mode": {
    "name": "ipython",
    "version": 3
   },
   "file_extension": ".py",
   "mimetype": "text/x-python",
   "name": "python",
   "nbconvert_exporter": "python",
   "pygments_lexer": "ipython3",
   "version": "3.13.5"
  }
 },
 "nbformat": 4,
 "nbformat_minor": 5
}
